{
  "nbformat": 4,
  "nbformat_minor": 0,
  "metadata": {
    "colab": {
      "provenance": [],
      "authorship_tag": "ABX9TyNoxJLPtcc/UBKJAvjZEnEY",
      "include_colab_link": true
    },
    "kernelspec": {
      "name": "python3",
      "display_name": "Python 3"
    },
    "language_info": {
      "name": "python"
    }
  },
  "cells": [
    {
      "cell_type": "markdown",
      "metadata": {
        "id": "view-in-github",
        "colab_type": "text"
      },
      "source": [
        "<a href=\"https://colab.research.google.com/github/NishthaJethani/hands-on-ml/blob/main/1.ipynb\" target=\"_parent\"><img src=\"https://colab.research.google.com/assets/colab-badge.svg\" alt=\"Open In Colab\"/></a>"
      ]
    },
    {
      "cell_type": "code",
      "execution_count": null,
      "metadata": {
        "id": "9VNrFQhqO-Kv"
      },
      "outputs": [],
      "source": [
        "import sys\n",
        "assert sys.version_info>=(3, 7)"
      ]
    },
    {
      "cell_type": "code",
      "source": [
        "from packaging import version\n",
        "import sklearn\n",
        "\n",
        "assert version.parse(sklearn.__version__)>=version.parse(\"1.0.1\")"
      ],
      "metadata": {
        "id": "CjU2zO-lQN9_"
      },
      "execution_count": null,
      "outputs": []
    },
    {
      "cell_type": "code",
      "source": [
        "import matplotlib.pyplot as plt\n",
        "\n",
        "plt.rc('font', size=12)\n",
        "plt.rc('axes', labelsize=14, titlesize=14)\n",
        "plt.rc('legend', fontsize=12)\n",
        "plt.rc('xtick', labelsize=10)\n",
        "plt.rc('ytick', labelsize=10)"
      ],
      "metadata": {
        "id": "rA_jpaeUQhRZ"
      },
      "execution_count": null,
      "outputs": []
    },
    {
      "cell_type": "code",
      "source": [
        "import numpy as np\n",
        "np.random.seed(42)"
      ],
      "metadata": {
        "id": "MWqVeoivQ6xU"
      },
      "execution_count": null,
      "outputs": []
    },
    {
      "cell_type": "markdown",
      "source": [
        "Code Example 1: Comparing Life Satisfaction with GDP"
      ],
      "metadata": {
        "id": "yRA9IZqYRBCJ"
      }
    },
    {
      "cell_type": "code",
      "source": [
        "import pandas as pd\n",
        "from sklearn.linear_model import LinearRegression\n",
        "\n",
        "data_root = \"https://raw.githubusercontent.com/NishthaJethani/hands-on-ml/main/datasets/lifesat.csv\"\n",
        "lifesat = pd.read_csv(data_root)\n",
        "X = lifesat[[\"GDP per capita (USD)\"]].values\n",
        "y = lifesat[[\"Life satisfaction\"]].values\n"
      ],
      "metadata": {
        "colab": {
          "base_uri": "https://localhost:8080/"
        },
        "id": "4FiOODcETgpI",
        "outputId": "c890a4b8-0eb4-4eec-a741-c8bef86efa56"
      },
      "execution_count": null,
      "outputs": [
        {
          "output_type": "stream",
          "name": "stdout",
          "text": [
            "           Country  GDP per capita (USD)  Life satisfaction\n",
            "0           Russia          26456.387938                5.8\n",
            "1           Greece          27287.083401                5.4\n",
            "2           Turkey          28384.987785                5.5\n",
            "3           Latvia          29932.493910                5.9\n",
            "4          Hungary          31007.768407                5.6\n",
            "5         Portugal          32181.154537                5.4\n",
            "6           Poland          32238.157259                6.1\n",
            "7          Estonia          35638.421351                5.7\n",
            "8            Spain          36215.447591                6.3\n",
            "9         Slovenia          36547.738956                5.9\n",
            "10       Lithuania          36732.034744                5.9\n",
            "11          Israel          38341.307570                7.2\n",
            "12           Italy          38992.148381                6.0\n",
            "13  United Kingdom          41627.129269                6.8\n",
            "14          France          42025.617373                6.5\n",
            "15     New Zealand          42404.393738                7.3\n",
            "16          Canada          45856.625626                7.4\n",
            "17         Finland          47260.800458                7.6\n",
            "18         Belgium          48210.033111                6.9\n",
            "19       Australia          48697.837028                7.3\n",
            "20          Sweden          50683.323510                7.3\n",
            "21         Germany          50922.358023                7.0\n",
            "22         Austria          51935.603862                7.1\n",
            "23         Iceland          52279.728851                7.5\n",
            "24     Netherlands          54209.563836                7.4\n",
            "25         Denmark          55938.212809                7.6\n",
            "26   United States          60235.728492                6.9\n"
          ]
        }
      ]
    },
    {
      "cell_type": "code",
      "source": [
        "lifesat.plot(kind='scatter', grid=True, x=\"GDP per capita (USD)\", y=\"Life satisfaction\")\n",
        "plt.axis([23_000, 65_000, 4, 9])\n",
        "plt.show()"
      ],
      "metadata": {
        "colab": {
          "base_uri": "https://localhost:8080/",
          "height": 460
        },
        "id": "wkcM1z1qUdxx",
        "outputId": "d8d48903-fa76-430b-cf31-359c203fb47e"
      },
      "execution_count": null,
      "outputs": [
        {
          "output_type": "display_data",
          "data": {
            "text/plain": [
              "<Figure size 640x480 with 1 Axes>"
            ],
            "image/png": "[encoded data removed]"
          },
          "metadata": {}
        }
      ]
    },
    {
      "cell_type": "code",
      "source": [
        "model=LinearRegression()\n",
        "model.fit(X, y)\n",
        "\n",
        "#Cyprus's GDP\n",
        "print(model.predict([[37_655.2]]))"
      ],
      "metadata": {
        "colab": {
          "base_uri": "https://localhost:8080/"
        },
        "id": "IDfo4FxPVNgj",
        "outputId": "c9587057-eb28-4ea5-d75b-4aa971e2b297"
      },
      "execution_count": null,
      "outputs": [
        {
          "output_type": "stream",
          "name": "stdout",
          "text": [
            "[[6.30165767]]\n"
          ]
        }
      ]
    },
    {
      "cell_type": "code",
      "source": [
        "from sklearn.neighbors import KNeighborsRegressor\n",
        "\n",
        "model=KNeighborsRegressor(n_neighbors=3)\n",
        "\n",
        "model.fit(X, y)\n",
        "\n",
        "print(model.predict([[37655.2]]))"
      ],
      "metadata": {
        "colab": {
          "base_uri": "https://localhost:8080/"
        },
        "id": "5Y1m2xFeV2ro",
        "outputId": "9606ded1-3ce2-4e10-dff3-127da2dd1538"
      },
      "execution_count": null,
      "outputs": [
        {
          "output_type": "stream",
          "name": "stdout",
          "text": [
            "[[6.33333333]]\n"
          ]
        }
      ]
    }
  ]
}